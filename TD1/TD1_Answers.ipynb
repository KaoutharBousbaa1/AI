{
 "cells": [
  {
   "cell_type": "markdown",
   "id": "dae101c8",
   "metadata": {},
   "source": [
    "### Nom et prénom: Kaouthar BOUSBAA"
   ]
  },
  {
   "cell_type": "markdown",
   "id": "0776176c",
   "metadata": {},
   "source": [
    "### Exercice 1:"
   ]
  },
  {
   "cell_type": "code",
   "execution_count": 3,
   "id": "c9a5b1a6",
   "metadata": {},
   "outputs": [],
   "source": [
    "x = 3.0"
   ]
  },
  {
   "cell_type": "code",
   "execution_count": 4,
   "id": "6c00c131",
   "metadata": {},
   "outputs": [
    {
     "data": {
      "text/plain": [
       "float"
      ]
     },
     "execution_count": 4,
     "metadata": {},
     "output_type": "execute_result"
    }
   ],
   "source": [
    "type(x)"
   ]
  },
  {
   "cell_type": "code",
   "execution_count": 5,
   "id": "5d2a4c44",
   "metadata": {},
   "outputs": [
    {
     "data": {
      "text/plain": [
       "3"
      ]
     },
     "execution_count": 5,
     "metadata": {},
     "output_type": "execute_result"
    }
   ],
   "source": [
    "int(x)"
   ]
  },
  {
   "cell_type": "code",
   "execution_count": 6,
   "id": "423c7df7",
   "metadata": {},
   "outputs": [
    {
     "data": {
      "text/plain": [
       "float"
      ]
     },
     "execution_count": 6,
     "metadata": {},
     "output_type": "execute_result"
    }
   ],
   "source": [
    "type(x)"
   ]
  },
  {
   "cell_type": "code",
   "execution_count": 7,
   "id": "f24fdfe8",
   "metadata": {},
   "outputs": [],
   "source": [
    "x = int(x)"
   ]
  },
  {
   "cell_type": "code",
   "execution_count": 8,
   "id": "8193dfed",
   "metadata": {},
   "outputs": [
    {
     "data": {
      "text/plain": [
       "int"
      ]
     },
     "execution_count": 8,
     "metadata": {},
     "output_type": "execute_result"
    }
   ],
   "source": [
    "type(x)"
   ]
  },
  {
   "cell_type": "code",
   "execution_count": 9,
   "id": "1b332c18",
   "metadata": {},
   "outputs": [],
   "source": [
    "y = 3"
   ]
  },
  {
   "cell_type": "code",
   "execution_count": 10,
   "id": "bb35a348",
   "metadata": {},
   "outputs": [
    {
     "data": {
      "text/plain": [
       "int"
      ]
     },
     "execution_count": 10,
     "metadata": {},
     "output_type": "execute_result"
    }
   ],
   "source": [
    "type(y)"
   ]
  },
  {
   "cell_type": "code",
   "execution_count": 11,
   "id": "33d58c0b",
   "metadata": {},
   "outputs": [],
   "source": [
    "y = float(y)"
   ]
  },
  {
   "cell_type": "code",
   "execution_count": 12,
   "id": "d506221a",
   "metadata": {},
   "outputs": [
    {
     "data": {
      "text/plain": [
       "float"
      ]
     },
     "execution_count": 12,
     "metadata": {},
     "output_type": "execute_result"
    }
   ],
   "source": [
    "type(y)"
   ]
  },
  {
   "cell_type": "markdown",
   "id": "f7589d03",
   "metadata": {},
   "source": [
    "La fonction type() permet de retourner le type d'un objet. La fonction int() permet de renvoyer une valeur entière. La fonction float() permet de stocker des nombres à virgule flottante."
   ]
  },
  {
   "cell_type": "markdown",
   "id": "3bd3ad43",
   "metadata": {},
   "source": [
    "Les types de variables que nous avons mis en évidence ici sont de type int (valeur entière) et float."
   ]
  },
  {
   "cell_type": "markdown",
   "id": "f3f63c5c",
   "metadata": {},
   "source": [
    "Pour changer une variable de type flottante en une variable de type entier, on utilise la fonction int(). POur changer une variable de type flottante en une variable de type entier, on utlise la fonction float()."
   ]
  },
  {
   "cell_type": "markdown",
   "id": "5c24d67d",
   "metadata": {},
   "source": [
    "### Exercice 2:"
   ]
  },
  {
   "cell_type": "code",
   "execution_count": 13,
   "id": "20752bf7",
   "metadata": {},
   "outputs": [],
   "source": [
    "A = ['a','b', 'c']"
   ]
  },
  {
   "cell_type": "code",
   "execution_count": 14,
   "id": "34e5f7c5",
   "metadata": {},
   "outputs": [
    {
     "data": {
      "text/plain": [
       "list"
      ]
     },
     "execution_count": 14,
     "metadata": {},
     "output_type": "execute_result"
    }
   ],
   "source": [
    "type(A)"
   ]
  },
  {
   "cell_type": "code",
   "execution_count": 16,
   "id": "0ab860f8",
   "metadata": {},
   "outputs": [],
   "source": [
    "B = 'abc'"
   ]
  },
  {
   "cell_type": "code",
   "execution_count": 17,
   "id": "8994f08d",
   "metadata": {},
   "outputs": [
    {
     "data": {
      "text/plain": [
       "str"
      ]
     },
     "execution_count": 17,
     "metadata": {},
     "output_type": "execute_result"
    }
   ],
   "source": [
    "type(B)"
   ]
  },
  {
   "cell_type": "markdown",
   "id": "b77b9834",
   "metadata": {},
   "source": [
    "Pour changer une variable de type string en une variable de type list, on utilise la fonction list(). Et pour changer une variable de typz list en une variable de type string, on utilise dans ce cas la méthode .join()."
   ]
  },
  {
   "cell_type": "markdown",
   "id": "d75a01d0",
   "metadata": {},
   "source": [
    "### Exercice 3:"
   ]
  },
  {
   "cell_type": "code",
   "execution_count": 18,
   "id": "edf5a22a",
   "metadata": {},
   "outputs": [],
   "source": [
    "A = 1"
   ]
  },
  {
   "cell_type": "code",
   "execution_count": 19,
   "id": "cad456dc",
   "metadata": {},
   "outputs": [],
   "source": [
    "A = bool(A)"
   ]
  },
  {
   "cell_type": "code",
   "execution_count": 20,
   "id": "59cb2d9b",
   "metadata": {},
   "outputs": [
    {
     "name": "stdout",
     "output_type": "stream",
     "text": [
      "True\n"
     ]
    }
   ],
   "source": [
    "print(A)"
   ]
  },
  {
   "cell_type": "code",
   "execution_count": 21,
   "id": "2cd23ba7",
   "metadata": {},
   "outputs": [],
   "source": [
    "B = not A"
   ]
  },
  {
   "cell_type": "code",
   "execution_count": 22,
   "id": "d29f47cb",
   "metadata": {},
   "outputs": [],
   "source": [
    "B = A"
   ]
  },
  {
   "cell_type": "code",
   "execution_count": 23,
   "id": "242e6adb",
   "metadata": {},
   "outputs": [],
   "source": [
    "A = A and B"
   ]
  },
  {
   "cell_type": "code",
   "execution_count": 25,
   "id": "dcac4ef5",
   "metadata": {},
   "outputs": [
    {
     "data": {
      "text/plain": [
       "bool"
      ]
     },
     "execution_count": 25,
     "metadata": {},
     "output_type": "execute_result"
    }
   ],
   "source": [
    "type(A)"
   ]
  },
  {
   "cell_type": "code",
   "execution_count": 26,
   "id": "a30e51c8",
   "metadata": {},
   "outputs": [
    {
     "data": {
      "text/plain": [
       "bool"
      ]
     },
     "execution_count": 26,
     "metadata": {},
     "output_type": "execute_result"
    }
   ],
   "source": [
    "type(B)"
   ]
  },
  {
   "cell_type": "markdown",
   "id": "685e4d60",
   "metadata": {},
   "source": [
    "Le type de variable que nous avons mis en évidence est: le type booléen, un type de données qui ne peut prendre que deux valeurs: True ou bien False."
   ]
  },
  {
   "cell_type": "markdown",
   "id": "087dc360",
   "metadata": {},
   "source": [
    "### Exercice 4:"
   ]
  },
  {
   "cell_type": "code",
   "execution_count": 39,
   "id": "cff85867",
   "metadata": {},
   "outputs": [
    {
     "name": "stdout",
     "output_type": "stream",
     "text": [
      "  L'intelligence est la faculté à conna^ıtre à comprendre et à raisonnner\n",
      "L'intelligence est la faculté à conna^ıtre à comprendre et à raisonnner\n"
     ]
    }
   ],
   "source": [
    "#==================================================================\n",
    "#Programme Python pour convertir une liste en cha^ıne\n",
    "#Fonction de convertion\n",
    "def listToString(lis):\n",
    "# initialise une chaine vide\n",
    "    str1 = ' '\n",
    "# traverser la chaine\n",
    "    for ch in lis:\n",
    "        str1 = str1 + ' ' + ch \n",
    "    return str1\n",
    "#----------------------------------------------------\n",
    "# code de test\n",
    "s = ['L\\'intelligence', 'est' , 'la faculté à conna^ıtre', 'à comprendre' , 'et à raisonnner']\n",
    "print(listToString(s))\n",
    "#alternative\n",
    "print(' '.join(s))\n",
    "#=================================================================="
   ]
  },
  {
   "cell_type": "markdown",
   "id": "d6624792",
   "metadata": {},
   "source": [
    "### Exercice 5:"
   ]
  },
  {
   "cell_type": "code",
   "execution_count": 45,
   "id": "de718e8c",
   "metadata": {},
   "outputs": [
    {
     "name": "stdout",
     "output_type": "stream",
     "text": [
      "ton nom ? Kaouthar\n",
      "age ? 20\n",
      "\t Nom : Kaouthar \t Age : 20.0\n"
     ]
    }
   ],
   "source": [
    "# ------------------- programme principal --------------------------------------\n",
    "## instruction input :\n",
    "nom = input(\"ton nom ? \")\n",
    "# essayer raw_input(\"ton nom ? \")\n",
    "age = input(\"age ? \")\n",
    "age = float(age)\n",
    "print(\"\\t Nom :\", nom, \"\\t Age :\", age)\n",
    "#\n",
    "# -------------------bonnes pratiques : --------------------------------------------\n",
    "#nom = raw_input(\"ton nom ? \") # pour une chaine\n",
    "#age = float(input(\"age ? \")) # sinon : transtyper explicitement\n",
    "#print(\"{}\\n\\t Nom : {}\\t Age : {}\".format(\"-\"*40, nom, age))\n",
    "#---------------------------------------------------------------------------------------"
   ]
  },
  {
   "cell_type": "markdown",
   "id": "5d3ad8f7",
   "metadata": {},
   "source": [
    "### Exercice 8: "
   ]
  },
  {
   "cell_type": "markdown",
   "id": "40d9d90b",
   "metadata": {},
   "source": [
    "1)- L'intelligence artificielle c'est rendre une machine intelligente."
   ]
  },
  {
   "cell_type": "markdown",
   "id": "60df85b1",
   "metadata": {},
   "source": [
    "2)- C'est Jhon McCarthy qui a inventé le terme Intelligence Artificielle."
   ]
  },
  {
   "cell_type": "markdown",
   "id": "0aad053f",
   "metadata": {},
   "source": [
    "3)- Parmi les inconvénients de l'Intelligence Artificielle: menaçante, et coût élevé."
   ]
  },
  {
   "cell_type": "markdown",
   "id": "ec7952db",
   "metadata": {},
   "source": [
    "4)- Les caractéristiques du système informatique capable de penser, de raisonner et d'apprendre sont connues: intelligence artificielle."
   ]
  },
  {
   "cell_type": "markdown",
   "id": "36895968",
   "metadata": {},
   "source": [
    "5)- Le succès d'un comportement intelligent d'un système peut être mesuré avec le test de Turing."
   ]
  },
  {
   "cell_type": "markdown",
   "id": "08037832",
   "metadata": {},
   "source": [
    "6)- Netflix ne s'agit pas de IA."
   ]
  },
  {
   "cell_type": "markdown",
   "id": "72e571b7",
   "metadata": {},
   "source": [
    "7)- La géologie ne peut pas construire un système intelligent."
   ]
  },
  {
   "cell_type": "markdown",
   "id": "277e99d4",
   "metadata": {},
   "source": [
    "8)- Le terme Intelligence Artificielle a été inventé en 1956."
   ]
  },
  {
   "cell_type": "markdown",
   "id": "9978de94",
   "metadata": {},
   "source": [
    "9)- Si un robot peur modifier sa propre trajectoire en réponse à des conditions externes, il est considéré comme intelligente."
   ]
  },
  {
   "cell_type": "code",
   "execution_count": null,
   "id": "2d53a173",
   "metadata": {},
   "outputs": [],
   "source": []
  }
 ],
 "metadata": {
  "kernelspec": {
   "display_name": "Python 3 (ipykernel)",
   "language": "python",
   "name": "python3"
  },
  "language_info": {
   "codemirror_mode": {
    "name": "ipython",
    "version": 3
   },
   "file_extension": ".py",
   "mimetype": "text/x-python",
   "name": "python",
   "nbconvert_exporter": "python",
   "pygments_lexer": "ipython3",
   "version": "3.8.10"
  }
 },
 "nbformat": 4,
 "nbformat_minor": 5
}
